{
 "cells": [
  {
   "cell_type": "code",
   "execution_count": null,
   "id": "6f885608-c104-49ad-82c4-db378987adac",
   "metadata": {},
   "outputs": [],
   "source": [
    "import tweepy\n",
    "import pandas as pd\n",
    "import time\n",
    "from datetime import datetime\n",
    "import os\n",
    "\n",
    "bearer_token = \"AAAAAAAAAAAAAAAAAAAAAOCluQEAAAAAcRcGy3mDPzwBFoSL8A1iyXjGv6c%3D6zS9YpzGtvZFPROYcrgYCuaGToPDBHftwL2VE6nFUXIvQn4r6G\"\n",
    "\n",
    "client = tweepy.Client(bearer_token=bearer_token, wait_on_rate_limit=True)\n",
    "\n",
    "def get_tweets(keyword, max_tweets=100):\n",
    "    tweets = []\n",
    "    for tweet in tweepy.Paginator(client.search_recent_tweets, query=keyword, tweet_fields=['created_at', 'author_id', 'text'], max_results=100).flatten(limit=max_tweets):\n",
    "        tweets.append([tweet.author_id, tweet.text])\n",
    "    return tweets\n",
    "\n",
    "def save_tweets_to_csv(filename, tweets):\n",
    "    df = pd.DataFrame(tweets, columns=[\"user\", \"text\"])\n",
    "    df.to_csv(filename, mode='a', header=not os.path.exists(filename), index=False)\n",
    "    print(f\"Added {len(tweets)} new tweets to {filename}\")\n",
    "\n",
    "while True:\n",
    "    try:\n",
    "\n",
    "        biden_tweets = get_tweets(\"Biden\", max_tweets=100)\n",
    "        save_tweets_to_csv(\"Bidenall2.csv\", biden_tweets)\n",
    "        \n",
    "        trump_tweets = get_tweets(\"Trump\", max_tweets=100)\n",
    "        save_tweets_to_csv(\"Trumpall2.csv\", trump_tweets)\n",
    "        \n",
    "        biden_df = pd.read_csv(\"Bidenall2.csv\")\n",
    "        trump_df = pd.read_csv(\"Trumpall2.csv\")\n",
    "        print(f\"{datetime.now()}: Total tweets in Bidenall2.csv: {len(biden_df)}\")\n",
    "        print(f\"{datetime.now()}: Total tweets in Trumpall2.csv: {len(trump_df)}\")\n",
    "        \n",
    "        time.sleep(300) \n",
    "    except Exception as e:\n",
    "        print(f\"Error: {e}\")\n",
    "        time.sleep(60) "
   ]
  },
  {
   "cell_type": "code",
   "execution_count": null,
   "id": "2a1d8406-40fe-49b2-93fb-490635d5af22",
   "metadata": {},
   "outputs": [],
   "source": []
  }
 ],
 "metadata": {
  "kernelspec": {
   "display_name": "Python 3 (ipykernel)",
   "language": "python",
   "name": "python3"
  },
  "language_info": {
   "codemirror_mode": {
    "name": "ipython",
    "version": 3
   },
   "file_extension": ".py",
   "mimetype": "text/x-python",
   "name": "python",
   "nbconvert_exporter": "python",
   "pygments_lexer": "ipython3",
   "version": "3.11.7"
  }
 },
 "nbformat": 4,
 "nbformat_minor": 5
}
